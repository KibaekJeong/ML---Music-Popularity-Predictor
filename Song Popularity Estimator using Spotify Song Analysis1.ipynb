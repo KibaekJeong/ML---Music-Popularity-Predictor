{
 "cells": [
  {
   "cell_type": "markdown",
   "metadata": {},
   "source": [
    "## Supervised Learning\n",
    "## Project: Song Popularity Estimator"
   ]
  },
  {
   "cell_type": "markdown",
   "metadata": {},
   "source": [
    "In this Project, data will be collected directly from Spotify, a digital music streaming service, and utilize supervised learning models to predict song popularity. Spotify provides access to song data for developers. Data includes song popularity, artist popularity, and audio analysis such as loudness, tempo, key, mode, pitch, timbre, and so fourth. As we will be using python, 'spotipy', provided by Spotify will be utilized. We will implement various supervised models and choose best candidate that estimates song popularity. Our goal is to get and provide estimated popularity of a new song. "
   ]
  },
  {
   "cell_type": "markdown",
   "metadata": {},
   "source": [
    "____\n",
    "## Data Exploration\n",
    "\n",
    "First of all, lets get one of the songs information and explore the data. We will be utilizing spotipy to collect all the data. Song popularity, artist popularity, artist follower and audio analysis data such as loudness, tempo, key, mode, confidence, pitch and timbre will be explored. \n",
    "\n",
    "In order to access to the data provided by Spotify, we will use client credential for authorization and get access token. Run the code to get access token."
   ]
  },
  {
   "cell_type": "code",
   "execution_count": 1,
   "metadata": {},
   "outputs": [],
   "source": [
    "import spotipy\n",
    "from spotipy.oauth2 import SpotifyClientCredentials\n",
    "from IPython.display import display\n",
    "import numpy as np\n",
    "# Using Client Credentials for authorization\n",
    "client_credentials_manager = SpotifyClientCredentials(client_id=\"f2d11bfce2cf4bae8e096454ca4299ed\",client_secret=\"0192b251aff04567a49d33d83287a254\")\n",
    "sp = spotipy.Spotify(client_credentials_manager=client_credentials_manager)\n",
    "# get access token for spotify\n",
    "token = client_credentials_manager.get_access_token()"
   ]
  },
  {
   "cell_type": "markdown",
   "metadata": {},
   "source": [
    "As we have gotten access token, we need to get necessary information regarding the track and artist. Track information includes unnecessary information such as available markets, external urls, and image of the track. We will only need track popularity, track name, track uri, artist name, artist popularity and artist followers."
   ]
  },
  {
   "cell_type": "code",
   "execution_count": 5,
   "metadata": {},
   "outputs": [],
   "source": [
    "# get basic artist information and song information\n",
    "track = \"7BKLCZ1jbUBVqRi2FVlTVw\"\n",
    "track_info = sp.tracks(tracks)\n",
    "track_info1 = track_info['tracks'][0]\n",
    "artist_uri = (track_info1['artists'][0]['uri'])\n",
    "artist_name = (track_info1['artists'][0]['name'])\n",
    "song_name = (track_info1['name'])\n",
    "song_popularity = (track_info1['popularity'])\n",
    "artist = sp.artist(artist_uri)\n",
    "artist_popularity = artist['popularity']\n",
    "artist_followers =(artist['followers']['total'])"
   ]
  },
  {
   "cell_type": "markdown",
   "metadata": {},
   "source": [
    "Furthermore, run the below code to get audio analysis data"
   ]
  },
  {
   "cell_type": "code",
   "execution_count": 7,
   "metadata": {},
   "outputs": [],
   "source": [
    "# get audio analysis data for the track\n",
    "audio_analysis = sp.audio_analysis(track)\n",
    "audio_section_data = audio_analysis['sections']\n",
    "audio_segment_data = audio_analysis['segments']"
   ]
  },
  {
   "cell_type": "markdown",
   "metadata": {},
   "source": [
    "Now, as we have gotten all the necessary data, lets take a look at all the data.\n",
    "\n",
    "First, lets see artist and song information."
   ]
  },
  {
   "cell_type": "code",
   "execution_count": 17,
   "metadata": {},
   "outputs": [
    {
     "name": "stdout",
     "output_type": "stream",
     "text": [
      "Song Information\n"
     ]
    },
    {
     "data": {
      "text/plain": [
       "{'song_name': 'Closer',\n",
       " 'song_uri': '7BKLCZ1jbUBVqRi2FVlTVw',\n",
       " 'song_popularity': 85}"
      ]
     },
     "metadata": {},
     "output_type": "display_data"
    },
    {
     "name": "stdout",
     "output_type": "stream",
     "text": [
      "\n",
      "Artist Information\n"
     ]
    },
    {
     "data": {
      "text/plain": [
       "{'artist_name': 'The Chainsmokers',\n",
       " 'artist_uri': 'spotify:artist:69GGBxA162lTqCwzJG5jLp',\n",
       " 'artist_popularity': 88,\n",
       " 'artist_followers': 11026930}"
      ]
     },
     "metadata": {},
     "output_type": "display_data"
    }
   ],
   "source": [
    "print(\"Song Information\")\n",
    "song_info = {\"song_name\":song_name,\"song_uri\":track,\"song_popularity\":song_popularity}\n",
    "display(song_info)\n",
    "print()\n",
    "print(\"Artist Information\")\n",
    "artist_info = {\"artist_name\":artist_name,\"artist_uri\":artist_uri,\"artist_popularity\":artist_popularity\\\n",
    "              ,\"artist_followers\":artist_followers}\n",
    "display(artist_info)"
   ]
  },
  {
   "cell_type": "markdown",
   "metadata": {},
   "source": [
    "Next, lets see audio analysis data. We will be using sectional data and segmental data from audio analysis. Run the code below the check the data obtained."
   ]
  },
  {
   "cell_type": "code",
   "execution_count": 18,
   "metadata": {},
   "outputs": [
    {
     "data": {
      "text/plain": [
       "{'start': 0.0,\n",
       " 'duration': 10.64051,\n",
       " 'confidence': 1.0,\n",
       " 'loudness': -20.173,\n",
       " 'tempo': 95.149,\n",
       " 'tempo_confidence': 0.411,\n",
       " 'key': 8,\n",
       " 'key_confidence': 0.321,\n",
       " 'mode': 1,\n",
       " 'mode_confidence': 0.673,\n",
       " 'time_signature': 4,\n",
       " 'time_signature_confidence': 1.0}"
      ]
     },
     "metadata": {},
     "output_type": "display_data"
    }
   ],
   "source": [
    "display(audio_analysis['sections'][0])"
   ]
  },
  {
   "cell_type": "code",
   "execution_count": 19,
   "metadata": {},
   "outputs": [
    {
     "data": {
      "text/plain": [
       "{'start': 0.0,\n",
       " 'duration': 0.17914,\n",
       " 'confidence': 0.0,\n",
       " 'loudness_start': -60.0,\n",
       " 'loudness_max_time': 0.0,\n",
       " 'loudness_max': -60.0,\n",
       " 'pitches': [1.0, 1.0, 1.0, 1.0, 1.0, 1.0, 1.0, 1.0, 1.0, 1.0, 1.0, 1.0],\n",
       " 'timbre': [0.0,\n",
       "  171.13,\n",
       "  9.469,\n",
       "  -28.48,\n",
       "  57.491,\n",
       "  -50.067,\n",
       "  14.833,\n",
       "  5.359,\n",
       "  -27.228,\n",
       "  0.973,\n",
       "  -10.64,\n",
       "  -7.228]}"
      ]
     },
     "metadata": {},
     "output_type": "display_data"
    }
   ],
   "source": [
    "display(audio_analysis['segments'][0])"
   ]
  },
  {
   "cell_type": "markdown",
   "metadata": {},
   "source": [
    "As we can see, there is duration of each data, both in sectional and segmental data. From sectional data, we will be using confidence, loudness, tempo, tempo confidence, key, key confidence, mode, mode confidence, time signature and time signature confidence.\n",
    "From segmental data, we will be using pitches and timbre. \n",
    "As we can see both pitch and timbre data are in array. Pitch array implies dominance of 12 pitch classes from C, C#, D to B. Dominance is ranging from 0 to 1, where 1 is highest dominance and 0 is the opposite. \n",
    "Timbre represents quality of sound or musical note. As mentioned from Spotify, 'It is a complex notion also reffered to as sound color, texture, or tone quality, and is derived from the shape of a segment's specgtro-temporal surface, independently of pitch and loudness.' \n",
    "For further information, please visit: https://developer.spotify.com/documentation/web-api/reference/tracks/get-audio-analysis/\n"
   ]
  },
  {
   "cell_type": "markdown",
   "metadata": {},
   "source": [
    "Now, lets see how data changes through out the track. We will graph the confidence, loudness, tempo, tempo confidence, key, key confidence, mode and mode confidence with respect to time. As duration or time for each data differs, the length of each data is different. \n",
    "\n",
    "Run the codes below to check out the graphs."
   ]
  },
  {
   "cell_type": "code",
   "execution_count": 82,
   "metadata": {},
   "outputs": [
    {
     "data": {
      "text/plain": [
       "Text(0.5,1,'Time vs Confidence for Closer by The Chainsmokers')"
      ]
     },
     "execution_count": 82,
     "metadata": {},
     "output_type": "execute_result"
    },
    {
     "data": {
      "image/png": "[encoded data removed]",
      "text/plain": [
       "<Figure size 432x288 with 1 Axes>"
      ]
     },
     "metadata": {
      "needs_background": "light"
     },
     "output_type": "display_data"
    }
   ],
   "source": [
    "import numpy as np\n",
    "import matplotlib.pyplot as plt\n",
    "\n",
    "for i in range(0,len(audio_section_data)):\n",
    "    confidence_plt = plt.bar((audio_section_data[i]['start']+(audio_section_data[i]['duration']/2)), audio_section_data[i]['confidence'],width =audio_section_data[i]['duration'])               \n",
    "\n",
    "plt.xlabel(\"Time\")\n",
    "plt.ylabel(\"Confidence\")\n",
    "plt.title(\"Time vs Confidence for \" + str(song_name)+\" by \" + str(artist_name))"
   ]
  },
  {
   "cell_type": "code",
   "execution_count": 83,
   "metadata": {},
   "outputs": [
    {
     "data": {
      "text/plain": [
       "Text(0.5,1,'Time vs Loudness for Closer by The Chainsmokers')"
      ]
     },
     "execution_count": 83,
     "metadata": {},
     "output_type": "execute_result"
    },
    {
     "data": {
      "image/png": "[encoded data removed]",
      "text/plain": [
       "<Figure size 432x288 with 1 Axes>"
      ]
     },
     "metadata": {
      "needs_background": "light"
     },
     "output_type": "display_data"
    }
   ],
   "source": [
    "for i in range(0,len(audio_section_data)):\n",
    "    loudness_plt = plt.bar((audio_section_data[i]['start']+(audio_section_data[i]['duration']/2)), audio_section_data[i]['loudness'],width =audio_section_data[i]['duration'])\n",
    "\n",
    "plt.xlabel(\"Time\")\n",
    "plt.ylabel(\"Loudness\")\n",
    "plt.title(\"Time vs Loudness for \" + str(song_name)+\" by \" + str(artist_name))\n"
   ]
  },
  {
   "cell_type": "code",
   "execution_count": 84,
   "metadata": {},
   "outputs": [
    {
     "data": {
      "text/plain": [
       "Text(0.5,1,'Time vs Tempo for Closer by The Chainsmokers')"
      ]
     },
     "execution_count": 84,
     "metadata": {},
     "output_type": "execute_result"
    },
    {
     "data": {
      "image/png": "[encoded data removed]",
      "text/plain": [
       "<Figure size 432x288 with 1 Axes>"
      ]
     },
     "metadata": {
      "needs_background": "light"
     },
     "output_type": "display_data"
    }
   ],
   "source": [
    "for i in range(0,len(audio_section_data)):\n",
    "    tempo_plt = plt.bar((audio_section_data[i]['start']+(audio_section_data[i]['duration']/2)), audio_section_data[i]['tempo'],width =audio_section_data[i]['duration'])\n",
    "    \n",
    "plt.xlabel(\"Time\")\n",
    "plt.ylabel(\"Tempo\")\n",
    "plt.title(\"Time vs Tempo for \" + str(song_name)+\" by \" + str(artist_name))\n"
   ]
  },
  {
   "cell_type": "code",
   "execution_count": 85,
   "metadata": {},
   "outputs": [
    {
     "data": {
      "text/plain": [
       "Text(0.5,1,'Time vs Tempo Confidence for Closer by The Chainsmokers')"
      ]
     },
     "execution_count": 85,
     "metadata": {},
     "output_type": "execute_result"
    },
    {
     "data": {
      "image/png": "[encoded data removed]",
      "text/plain": [
       "<Figure size 432x288 with 1 Axes>"
      ]
     },
     "metadata": {
      "needs_background": "light"
     },
     "output_type": "display_data"
    }
   ],
   "source": [
    "for i in range(0,len(audio_section_data)):\n",
    "    tempo_confidence_plt = plt.bar((audio_section_data[i]['start']+(audio_section_data[i]['duration']/2)), audio_section_data[i]['tempo_confidence'],width =audio_section_data[i]['duration'])\n",
    "\n",
    "plt.xlabel(\"Time\")\n",
    "plt.ylabel(\"Tempo Confidence\")\n",
    "plt.title(\"Time vs Tempo Confidence for \" + str(song_name)+\" by \" + str(artist_name))\n"
   ]
  },
  {
   "cell_type": "code",
   "execution_count": 86,
   "metadata": {},
   "outputs": [
    {
     "data": {
      "text/plain": [
       "Text(0.5,1,'Time vs Key for Closer by The Chainsmokers')"
      ]
     },
     "execution_count": 86,
     "metadata": {},
     "output_type": "execute_result"
    },
    {
     "data": {
      "image/png": "[encoded data removed]",
      "text/plain": [
       "<Figure size 432x288 with 1 Axes>"
      ]
     },
     "metadata": {
      "needs_background": "light"
     },
     "output_type": "display_data"
    }
   ],
   "source": [
    "for i in range(0,len(audio_section_data)):\n",
    "    key_plt = plt.bar((audio_section_data[i]['start']+(audio_section_data[i]['duration']/2)), audio_section_data[i]['key'],width =audio_section_data[i]['duration'])\n",
    "\n",
    "plt.xlabel(\"Time\")\n",
    "plt.ylabel(\"Key\")\n",
    "plt.title(\"Time vs Key for \" + str(song_name)+\" by \" + str(artist_name))\n",
    "   "
   ]
  },
  {
   "cell_type": "code",
   "execution_count": 87,
   "metadata": {},
   "outputs": [
    {
     "data": {
      "text/plain": [
       "Text(0.5,1,'Time vs Key Confidence for Closer by The Chainsmokers')"
      ]
     },
     "execution_count": 87,
     "metadata": {},
     "output_type": "execute_result"
    },
    {
     "data": {
      "image/png": "[encoded data removed]",
      "text/plain": [
       "<Figure size 432x288 with 1 Axes>"
      ]
     },
     "metadata": {
      "needs_background": "light"
     },
     "output_type": "display_data"
    }
   ],
   "source": [
    "for i in range(0,len(audio_section_data)):\n",
    "    key_confidence_plt = plt.bar((audio_section_data[i]['start']+(audio_section_data[i]['duration']/2)), audio_section_data[i]['key_confidence'],width =audio_section_data[i]['duration'])\n",
    "\n",
    "plt.xlabel(\"Time\")\n",
    "plt.ylabel(\"Key Confidence\")\n",
    "plt.title(\"Time vs Key Confidence for \" + str(song_name)+\" by \" + str(artist_name))\n"
   ]
  },
  {
   "cell_type": "code",
   "execution_count": 88,
   "metadata": {},
   "outputs": [
    {
     "data": {
      "text/plain": [
       "Text(0.5,1,'Time vs Mode for Closer by The Chainsmokers')"
      ]
     },
     "execution_count": 88,
     "metadata": {},
     "output_type": "execute_result"
    },
    {
     "data": {
      "image/png": "[encoded data removed]",
      "text/plain": [
       "<Figure size 432x288 with 1 Axes>"
      ]
     },
     "metadata": {
      "needs_background": "light"
     },
     "output_type": "display_data"
    }
   ],
   "source": [
    "for i in range(0,len(audio_section_data)):\n",
    "    mode_plt = plt.bar((audio_section_data[i]['start']+(audio_section_data[i]['duration']/2)), audio_section_data[i]['mode'],width =audio_section_data[i]['duration'])\n",
    "\n",
    "plt.xlabel(\"Time\")\n",
    "plt.ylabel(\"Mode\")\n",
    "plt.title(\"Time vs Mode for \" + str(song_name)+\" by \" + str(artist_name))\n"
   ]
  },
  {
   "cell_type": "code",
   "execution_count": 89,
   "metadata": {},
   "outputs": [
    {
     "data": {
      "text/plain": [
       "Text(0.5,1,'Time vs Mode Confidence for Closer by The Chainsmokers')"
      ]
     },
     "execution_count": 89,
     "metadata": {},
     "output_type": "execute_result"
    },
    {
     "data": {
      "image/png": "[encoded data removed]",
      "text/plain": [
       "<Figure size 432x288 with 1 Axes>"
      ]
     },
     "metadata": {
      "needs_background": "light"
     },
     "output_type": "display_data"
    }
   ],
   "source": [
    "for i in range(0,len(audio_section_data)): \n",
    "    mode_confidence_plt = plt.bar((audio_section_data[i]['start']+(audio_section_data[i]['duration']/2)), audio_section_data[i]['mode_confidence'],width =audio_section_data[i]['duration'])\n",
    "\n",
    "plt.xlabel(\"Time\")\n",
    "plt.ylabel(\"Mode Confidence\")\n",
    "plt.title(\"Time vs Mode Confidence for \" + str(song_name)+\" by \" + str(artist_name))\n"
   ]
  },
  {
   "cell_type": "markdown",
   "metadata": {},
   "source": [
    "Be note that tempo, key, and mode does not vary or only varies slightly for a short period of time. This is because as tempo, key or mode is usually constant through out the track."
   ]
  },
  {
   "cell_type": "markdown",
   "metadata": {},
   "source": [
    "____\n",
    "## Import Dataset\n",
    "Now we will import the dataset collected from Spotify. Genre of all the song data are EDM or EDM-POP. We have limited the genre as different genre would have different components that makes music popular. "
   ]
  },
  {
   "cell_type": "code",
   "execution_count": null,
   "metadata": {},
   "outputs": [],
   "source": []
  }
 ],
 "metadata": {
  "kernelspec": {
   "display_name": "Python 3",
   "language": "python",
   "name": "python3"
  },
  "language_info": {
   "codemirror_mode": {
    "name": "ipython",
    "version": 3
   },
   "file_extension": ".py",
   "mimetype": "text/x-python",
   "name": "python",
   "nbconvert_exporter": "python",
   "pygments_lexer": "ipython3",
   "version": "3.7.0"
  }
 },
 "nbformat": 4,
 "nbformat_minor": 2
}
