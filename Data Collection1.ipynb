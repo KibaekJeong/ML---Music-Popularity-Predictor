{
 "cells": [
  {
   "cell_type": "code",
   "execution_count": 12,
   "metadata": {},
   "outputs": [],
   "source": [
    "import spotipy\n",
    "from spotipy.oauth2 import SpotifyClientCredentials\n",
    "from IPython.display import display\n",
    "import numpy as np\n",
    "from array import array\n",
    "from scipy.stats import kurtosis\n",
    "from scipy.stats import entropy\n",
    "\n",
    "# Using Client Credentials for authorization\n",
    "client_credentials_manager = SpotifyClientCredentials(client_id=\"f2d11bfce2cf4bae8e096454ca4299ed\",client_secret=\"0192b251aff04567a49d33d83287a254\")\n",
    "sp = spotipy.Spotify(client_credentials_manager=client_credentials_manager)\n",
    "# get access token for spotify\n",
    "token = client_credentials_manager.get_access_token()"
   ]
  },
  {
   "cell_type": "code",
   "execution_count": 4,
   "metadata": {},
   "outputs": [],
   "source": [
    "playlist = [[]]*101\n",
    "playlist[0] = sp.user_playlist(user='21fanbzduelpkiu2q5zutudja',playlist_id=\"3lMjfwXLl16mLwsIGesy01\")\n",
    "playlist[1] = sp.user_playlist(user='spotify',playlist_id=\"37i9dQZF1DX4dyzvuaRJ0n\")\n",
    "playlist[2] = sp.user_playlist(user='spotify',playlist_id=\"37i9dQZF1DXaXB8fQg7xif\")\n",
    "playlist[3] = sp.user_playlist(user='spotify',playlist_id=\"37i9dQZF1DX8tZsk68tuDw\")\n",
    "playlist[4] = sp.user_playlist(user='spotify',playlist_id=\"37i9dQZF1DXcXBWjiVEM8R\")\n",
    "playlist[5] = sp.user_playlist(user='spotify',playlist_id=\"37i9dQZF1DX6VdMW310YC7\")\n",
    "playlist[6] = sp.user_playlist(user='spotify',playlist_id=\"37i9dQZF1DXbraCN8mShma\")\n",
    "playlist[7] = sp.user_playlist(user='spotify',playlist_id=\"37i9dQZF1DX5wLEUgIR5Wy\")\n",
    "playlist[8] = sp.user_playlist(user='spotify',playlist_id=\"37i9dQZF1DZ06evO2nTSE0\")\n",
    "playlist[9] = sp.user_playlist(user='spotify',playlist_id=\"37i9dQZF1DZ06evO2NCvn4\")\n",
    "playlist[10] = sp.user_playlist(user='spotify',playlist_id=\"37i9dQZF1DZ06evO0HRlzc\")\n",
    "playlist[11] = sp.user_playlist(user='spotify',playlist_id=\"37i9dQZF1DX46HBMApdlID\")\n",
    "playlist[12] = sp.user_playlist(user='spotify',playlist_id=\"37i9dQZF1DWVM4VqFGeMe4\")\n",
    "playlist[13] = sp.user_playlist(user='spotify',playlist_id=\"37i9dQZF1DZ06evO14OuVJ\")\n",
    "playlist[14] = sp.user_playlist(user='spotify',playlist_id=\"37i9dQZF1DX0hvSv9Rf41p\")\n",
    "playlist[15] = sp.user_playlist(user='spotify',playlist_id=\"37i9dQZF1DZ06evO07rbKo\")\n",
    "playlist[16] = sp.user_playlist(user='spotify',playlist_id=\"37i9dQZF1DZ06evO0XdkGY\")\n",
    "playlist[17] = sp.user_playlist(user='spotify',playlist_id=\"37i9dQZF1DZ06evO0qxgli\")\n",
    "playlist[18] = sp.user_playlist(user='spotify',playlist_id=\"37i9dQZF1DZ06evO0dAjx6\")\n",
    "playlist[19] = sp.user_playlist(user='spotify',playlist_id=\"37i9dQZF1DZ06evO4cJYWI\")\n",
    "playlist[20] = sp.user_playlist(user='spotify',playlist_id=\"37i9dQZF1DZ06evO18wCGk\")\n",
    "playlist[21] = sp.user_playlist(user='spotify',playlist_id=\"37i9dQZF1DWWj5zlML0Fin\")\n",
    "playlist[22] = sp.user_playlist(user='spotify',playlist_id=\"37i9dQZF1DX9GbeR6sPmQb\")\n",
    "playlist[23] = sp.user_playlist(user='spotify',playlist_id=\"37i9dQZF1DZ06evO44XFa8\")\n",
    "playlist[24] = sp.user_playlist(user='spotify',playlist_id=\"37i9dQZF1DZ06evO4s4B1e\")\n",
    "playlist[25] = sp.user_playlist(user='spotify',playlist_id=\"37i9dQZF1DX94qaYRnkufr\")\n",
    "playlist[26] = sp.user_playlist(user='spotify',playlist_id=\"37i9dQZF1DXbDs5HMNanrc\")\n",
    "playlist[27] = sp.user_playlist(user='spotify',playlist_id=\"37i9dQZF1DZ06evO1RBsv6\")\n",
    "playlist[28] = sp.user_playlist(user='spotify',playlist_id=\"37i9dQZF1DX9wiAG8jAIkT\")\n",
    "playlist[29] = sp.user_playlist(user='spotify',playlist_id=\"37i9dQZF1DWW3gTjSx5Dc7\")\n",
    "playlist[30] = sp.user_playlist(user='spotify',playlist_id=\"37i9dQZF1DX60EDqDORwwI\")\n",
    "playlist[31] = sp.user_playlist(user='spotify',playlist_id=\"37i9dQZF1DWYacvJEtDkU8\")\n",
    "playlist[32] = sp.user_playlist(user='spotify',playlist_id=\"37i9dQZF1DWZUWZIwpqsT3\")\n",
    "playlist[33] = sp.user_playlist(user='spotify',playlist_id=\"37i9dQZF1DX4npDJDFDYLg\")\n",
    "playlist[34] = sp.user_playlist(user='spotify',playlist_id=\"37i9dQZF1DZ06evO3LIN0c\")\n",
    "playlist[35] = sp.user_playlist(user='spotify',playlist_id=\"37i9dQZF1DX0MiLwiDL8lJ\")\n",
    "playlist[36] = sp.user_playlist(user='spotify',playlist_id=\"37i9dQZF1DXdFvkFPLsPi2\")\n",
    "playlist[37] = sp.user_playlist(user='spotify',playlist_id=\"37i9dQZF1DWWEIreSTav5P\")\n",
    "playlist[38] = sp.user_playlist(user='spotify',playlist_id=\"37i9dQZF1DX87JE1B72J6C\")\n",
    "playlist[39] = sp.user_playlist(user='spotify',playlist_id=\"37i9dQZF1DX7ro1070uuGs\")\n",
    "playlist[40] = sp.user_playlist(user='spotify',playlist_id=\"37i9dQZF1DX2rheAFbQM31\")\n",
    "playlist[41] = sp.user_playlist(user='spotify',playlist_id=\"37i9dQZF1DX3jrI7rYHIOI\")\n",
    "playlist[42] = sp.user_playlist(user='spotify',playlist_id=\"37i9dQZF1DZ06evO34U6QM\")\n",
    "playlist[43] = sp.user_playlist(user='spotify',playlist_id=\"37i9dQZF1DZ06evO1bnTX2\")\n",
    "playlist[44] = sp.user_playlist(user='spotify',playlist_id=\"37i9dQZF1DZ06evO4nb11C\")\n",
    "playlist[45] = sp.user_playlist(user='spotify',playlist_id=\"37i9dQZF1DWWVnzqQyu8XB\")\n",
    "playlist[46] = sp.user_playlist(user='spotify',playlist_id=\"37i9dQZF1DXdIpacQDPDV5\")\n",
    "playlist[47] = sp.user_playlist(user='spotify',playlist_id=\"37i9dQZF1DZ06evO2Hmegh\")\n",
    "playlist[48] = sp.user_playlist(user='spotify',playlist_id=\"37i9dQZF1DX4WYpdgoIcn6\")\n",
    "playlist[49] = sp.user_playlist(user='spotify',playlist_id=\"37i9dQZF1DZ06evO3j3iRG\")\n",
    "playlist[50] = sp.user_playlist(user='spotify',playlist_id=\"37i9dQZF1DZ06evO3Oe9Dq\")\n",
    "playlist[51] = sp.user_playlist(user='spotify',playlist_id=\"37i9dQZF1DZ06evO1JmxGK\")\n",
    "playlist[52] = sp.user_playlist(user='spotify',playlist_id=\"37i9dQZF1DZ06evO2VqtkQ\")\n",
    "playlist[53] = sp.user_playlist(user='spotify',playlist_id=\"37i9dQZF1DX7H1BP5vXFoO\")\n",
    "playlist[54] = sp.user_playlist(user='spotify',playlist_id=\"37i9dQZF1DZ06evO3GvGxi\")\n",
    "playlist[55] = sp.user_playlist(user='spotify',playlist_id=\"37i9dQZF1DZ06evO3BPiTe\")\n",
    "playlist[56] = sp.user_playlist(user='spotify',playlist_id=\"37i9dQZF1DZ06evO2sv2nJ\")\n",
    "playlist[57] = sp.user_playlist(user='spotify',playlist_id=\"37i9dQZF1DZ06evO2lCxvq\")\n",
    "playlist[58] = sp.user_playlist(user='spotify',playlist_id=\"37i9dQZF1DZ06evO2C8zDy\")\n",
    "playlist[59] = sp.user_playlist(user='spotify',playlist_id=\"37i9dQZF1DZ06evO2XgRGg\")\n",
    "playlist[60] = sp.user_playlist(user='spotify',playlist_id=\"37i9dQZF1DZ06evO2VjB72\")\n",
    "playlist[61] = sp.user_playlist(user='spotify',playlist_id=\"37i9dQZF1DZ06evO2EPLna\")\n",
    "playlist[62] = sp.user_playlist(user='spotify',playlist_id=\"37i9dQZF1DZ06evO4tCQ8w\")\n",
    "playlist[63] = sp.user_playlist(user='spotify',playlist_id=\"37i9dQZF1DZ06evO4mcwgw\")\n",
    "playlist[64] = sp.user_playlist(user='spotify',playlist_id=\"37i9dQZF1DX7IOI7TbS1hG\")\n",
    "playlist[65] = sp.user_playlist(user='spotify',playlist_id=\"37i9dQZF1DZ06evO3dMTOo\")\n",
    "playlist[66] = sp.user_playlist(user='spotify',playlist_id=\"37i9dQZF1DZ06evO0ZBh0k\")\n",
    "playlist[67] = sp.user_playlist(user='spotify',playlist_id=\"37i9dQZF1DX1QOnQNx3HPL\")\n",
    "playlist[68] = sp.user_playlist(user='spotify',playlist_id=\"37i9dQZF1DZ06evO0XAYVq\")\n",
    "playlist[69] = sp.user_playlist(user='spotify',playlist_id=\"37i9dQZF1DZ06evO3NQvqE\")\n",
    "playlist[70] = sp.user_playlist(user='spotify',playlist_id=\"37i9dQZF1DZ06evO0wZmve\")\n",
    "playlist[71] = sp.user_playlist(user='spotify',playlist_id=\"37i9dQZF1DZ06evO3EYgz6\")\n",
    "playlist[72] = sp.user_playlist(user='spotify',playlist_id=\"37i9dQZF1DZ06evO1rXMLC\")\n",
    "playlist[73] = sp.user_playlist(user='spotify',playlist_id=\"37i9dQZF1DZ06evO3j5vfW\")\n",
    "playlist[74] = sp.user_playlist(user='spotify',playlist_id=\"37i9dQZF1DWZmSR8ugtQ84\")\n",
    "playlist[75] = sp.user_playlist(user='spotify',playlist_id=\"37i9dQZF1DZ06evO3vBedW\")\n",
    "playlist[76] = sp.user_playlist(user='spotify',playlist_id=\"37i9dQZF1DZ06evO4qJ09q\")\n",
    "playlist[77] = sp.user_playlist(user='spotify',playlist_id=\"37i9dQZF1DZ06evO2CYOVG\")\n",
    "playlist[78] = sp.user_playlist(user='spotify',playlist_id=\"37i9dQZF1DZ06evO1U0v4Z\")\n",
    "playlist[79] = sp.user_playlist(user='spotify',playlist_id=\"37i9dQZF1DX6waq9bOfjwN\")\n",
    "playlist[80] = sp.user_playlist(user='spotify',playlist_id=\"37i9dQZF1DX7Ubb192UfSb\")\n",
    "playlist[81] = sp.user_playlist(user='spotify',playlist_id=\"37i9dQZF1DX1xlmTNXq2Qg\")\n",
    "playlist[82] = sp.user_playlist(user='spotify',playlist_id=\"0kGTTPDeNoqW57QnC5UBFn\")\n",
    "playlist[83] = sp.user_playlist(user='spotify',playlist_id=\"37i9dQZF1DZ06evO3Fy0Vi\")\n",
    "playlist[84] = sp.user_playlist(user='spotify',playlist_id=\"37i9dQZF1DZ06evO2GL6Ba\")\n",
    "playlist[85] = sp.user_playlist(user='spotify',playlist_id=\"37i9dQZF1DWTMYo3OZGoxV\")\n",
    "playlist[86] = sp.user_playlist(user='spotify',playlist_id=\"37i9dQZF1DXdgz8ZB7c2CP\")\n",
    "playlist[87] = sp.user_playlist(user='spotify',playlist_id=\"37i9dQZF1DZ06evO3yRCdG\")\n",
    "playlist[88] = sp.user_playlist(user='spotify',playlist_id=\"37i9dQZF1DZ06evO2f027c\")\n",
    "playlist[89] = sp.user_playlist(user='spotify',playlist_id=\"3gfl5TX5T5cWBugZ71COzY\")\n",
    "playlist[90] = sp.user_playlist(user='spotify',playlist_id=\"37i9dQZF1DZ06evO0er6Wu\")\n",
    "playlist[91] = sp.user_playlist(user='spotify',playlist_id=\"37i9dQZF1DZ06evO4jnUex\")\n",
    "playlist[92] = sp.user_playlist(user='spotify',playlist_id=\"37i9dQZF1DZ06evO0vLbXi\")\n",
    "playlist[93] = sp.user_playlist(user='spotify',playlist_id=\"37i9dQZF1DZ06evO0kKpwc\")\n",
    "playlist[94] = sp.user_playlist(user='spotify',playlist_id=\"37i9dQZF1DX7nGw3hwYw03\")\n",
    "playlist[95] = sp.user_playlist(user='spotify',playlist_id=\"37i9dQZF1DZ06evO0YpiQE\")\n",
    "playlist[96] = sp.user_playlist(user='spotify',playlist_id=\"37i9dQZF1DX0MiLwiDL8lJ\")\n",
    "playlist[97] = sp.user_playlist(user='spotify',playlist_id=\"37i9dQZF1DZ06evO0dAjx6\")\n",
    "playlist[98] = sp.user_playlist(user='spotify',playlist_id=\"37i9dQZF1DWTDkgFD3ivE6\")\n",
    "playlist[99] = sp.user_playlist(user='spotify',playlist_id=\"37i9dQZF1DWTDnCxoyoneS\")\n",
    "playlist[100] = sp.user_playlist(user='spotify',playlist_id=\"37i9dQZF1DX7RSP4HQfoPY\")\n"
   ]
  },
  {
   "cell_type": "code",
   "execution_count": 14,
   "metadata": {},
   "outputs": [
    {
     "data": {
      "text/plain": [
       "array('f', [0.7346027493476868, 0.2085345983505249, 0.1559787541627884, 0.7270249724388123, 0.21975865960121155, 0.6706233024597168, 0.12761598825454712, 0.25155267119407654, 0.04437166079878807, 0.9526949524879456, 0.6747654676437378, 0.18071362376213074, 0.37767302989959717, 0.48865458369255066, 0.2340746968984604])"
      ]
     },
     "metadata": {},
     "output_type": "display_data"
    },
    {
     "data": {
      "text/plain": [
       "array('f', [-2.4499001502990723, -1.7655929327011108, -4.048724174499512, -2.8131351470947266, -1.1024214029312134, -2.472318410873413, -1.7587685585021973, -1.4938359260559082, -3.9638683795928955, -3.8377625942230225, -2.48888897895813, -1.8168519735336304, -1.6454085111618042, -2.5849416255950928, -5.4515252113342285])"
      ]
     },
     "metadata": {},
     "output_type": "display_data"
    },
    {
     "data": {
      "text/plain": [
       "array('f', [66.11865997314453, 73.66178131103516, 120.96824645996094, 140.11810302734375, 46.64066696166992, 124.52713775634766, 58.35289764404297, 69.71028137207031, 120.7971420288086, 186.8133087158203, 124.53570556640625, 58.35625076293945, 70.09066772460938, 61.640968322753906, 29.406408309936523])"
      ]
     },
     "metadata": {},
     "output_type": "display_data"
    },
    {
     "data": {
      "text/plain": [
       "array('f', [0.5134873390197754, 0.3663666546344757, 0.3953254520893097, 0.7706153392791748, 0.2005816102027893, 0.6526477932929993, 0.43013712763786316, 0.34752970933914185, 0.39665576815605164, 0.9526949524879456, 0.6332839727401733, 0.4365626573562622, 0.39324718713760376, 0.46196335554122925, 0.07121320068836212])"
      ]
     },
     "metadata": {},
     "output_type": "display_data"
    },
    {
     "data": {
      "text/plain": [
       "array('f', [8.0806303024292, 8.995610237121582, 14.791088104248047, 1.5567985773086548, 2.591493606567383, 1.3827284574508667, 4.534578323364258, 8.514090538024902, 13.445958137512207, 12.453529357910156, 1.3827160596847534, 0.0, 3.1148293018341064, 4.1063408851623535, 2.1673583984375])"
      ]
     },
     "metadata": {},
     "output_type": "display_data"
    },
    {
     "data": {
      "text/plain": [
       "array('f', [0.04921838641166687, 0.4865807294845581, 0.00537857785820961, 0.0, 0.002073194831609726, 0.0, 0.14964108169078827, 0.07043474912643433, 0.0, 0.5417284965515137, 0.0, 0.0, 0.10045324265956879, 0.015740973874926567, 0.013623395003378391])"
      ]
     },
     "metadata": {},
     "output_type": "display_data"
    },
    {
     "data": {
      "text/plain": [
       "array('f', [0.7346027493476868, 0.8177827000617981, 1.3446444272994995, 1.5567985773086548, 0.5182987451553345, 1.3827284574508667, 0.6477968692779541, 0.7740082144737244, 0.0, 2.0755882263183594, 1.3827160596847534, 0.6477190852165222, 0.7787073254585266, 0.6843901872634888, 0.0])"
      ]
     },
     "metadata": {},
     "output_type": "display_data"
    },
    {
     "data": {
      "text/plain": [
       "array('f', [0.25931477546691895, 0.42933592200279236, 0.3805343806743622, 0.0, 0.13838575780391693, 0.0, 0.3627662658691406, 0.38158607482910156, 0.0, 0.37153029441833496, 0.0, 0.0, 0.2982448935508728, 0.1033429205417633, 0.09443490207195282])"
      ]
     },
     "metadata": {},
     "output_type": "display_data"
    },
    {
     "data": {
      "text/plain": [
       "array('f', [2.938410997390747, 3.2711308002471924, 5.378577709197998, 6.227194309234619, 2.073194980621338, 5.530913829803467, 2.5911874771118164, 3.0960328578948975, 5.378383159637451, 8.302352905273438, 5.530864238739014, 2.590876340866089, 3.1148293018341064, 2.737560749053955, 1.2384904623031616])"
      ]
     },
     "metadata": {},
     "output_type": "display_data"
    },
    {
     "data": {
      "text/plain": [
       "array('f', [0.7346027493476868, 0.8177827000617981, 1.3446444272994995, 1.5567985773086548, 0.5182987451553345, 1.3827284574508667, 0.6477968692779541, 0.7740082144737244, 1.3445957899093628, 2.0755882263183594, 1.3827160596847534, 0.6477190852165222, 0.7787073254585266, 0.6843901872634888, 0.3096226155757904])"
      ]
     },
     "metadata": {},
     "output_type": "display_data"
    },
    {
     "name": "stdout",
     "output_type": "stream",
     "text": [
      "retrying ...1secs\n",
      "retrying ...2secs\n"
     ]
    },
    {
     "data": {
      "text/plain": [
       "array('f', [0.5548112392425537, 0.435597687959671, 0.16091614961624146, 0.6644441485404968, 0.8727560043334961, 0.4042441248893738, 0.2537258267402649, 0.16284485161304474, 0.14056287705898285, 1.8011550903320312, 0.3778610825538635, 0.5163429379463196])"
      ]
     },
     "metadata": {},
     "output_type": "display_data"
    },
    {
     "data": {
      "text/plain": [
       "array('f', [-3.15743088722229, -1.326791763305664, -0.5454274415969849, -4.43339729309082, -4.159350872039795, -0.49675291776657104, -0.21600982546806335, -1.2525482177734375, -0.3091346025466919, -2.800999402999878, -2.3702194690704346, -17.59490203857422])"
      ]
     },
     "metadata": {},
     "output_type": "display_data"
    },
    {
     "data": {
      "text/plain": [
       "array('f', [83.1434555053711, 93.8597412109375, 90.69222259521484, 423.850341796875, 168.7833709716797, 72.31151580810547, 85.63532257080078, 101.73120880126953, 77.72920227050781, 359.12353515625, 166.05055236816406, 77.02391052246094])"
      ]
     },
     "metadata": {},
     "output_type": "display_data"
    },
    {
     "data": {
      "text/plain": [
       "array('f', [0.37616202235221863, 0.29873126745224, 0.11089353263378143, 1.0263540744781494, 0.11794000118970871, 0.3011353611946106, 0.33772963285446167, 0.3046555519104004, 0.19761793315410614, 0.9113414287567139, 0.6992092132568359, 0.14147795736789703])"
      ]
     },
     "metadata": {},
     "output_type": "display_data"
    },
    {
     "data": {
      "text/plain": [
       "array('f', [6.10292387008667, 3.749764919281006, 3.616093397140503, 31.101640701293945, 6.739428520202637, 0.4818165898323059, 0.5714545249938965, 6.7852020263671875, 0.5186822414398193, 11.959860801696777, 1.1080970764160156, 4.6470866203308105])"
      ]
     },
     "metadata": {},
     "output_type": "display_data"
    },
    {
     "data": {
      "text/plain": [
       "array('f', [0.1930743157863617, 0.0, 0.07714332640171051, 0.6842361092567444, 0.0, 0.0, 0.03314436227083206, 0.02714080736041069, 0.13018923997879028, 0.059799306094646454, 0.6759392023086548, 0.3139365017414093])"
      ]
     },
     "metadata": {},
     "output_type": "display_data"
    },
    {
     "data": {
      "text/plain": [
       "array('f', [0.5548112392425537, 0.6249607801437378, 0.6026822328567505, 0.0, 0.0, 0.4818165898323059, 0.5714545249938965, 0.6785202026367188, 0.5186822414398193, 0.0, 1.1080970764160156, 0.0])"
      ]
     },
     "metadata": {},
     "output_type": "display_data"
    },
    {
     "data": {
      "text/plain": [
       "array('f', [0.3650657832622528, 0.0, 0.21636292338371277, 0.9895976185798645, 0.0, 0.0, 0.23429636657238007, 0.28429996967315674, 0.16286621987819672, 0.4449068307876587, 0.570669949054718, 0.3067077100276947])"
      ]
     },
     "metadata": {},
     "output_type": "display_data"
    },
    {
     "data": {
      "text/plain": [
       "array('f', [2.219244956970215, 2.499843120574951, 2.410728931427002, 11.309687614440918, 4.492952346801758, 1.9272663593292236, 2.285818099975586, 2.714080810546875, 2.0747289657592773, 9.567889213562012, 4.4323883056640625, 2.0653717517852783])"
      ]
     },
     "metadata": {},
     "output_type": "display_data"
    },
    {
     "data": {
      "text/plain": [
       "array('f', [0.5548112392425537, 0.6249607801437378, 0.6026822328567505, 2.8274219036102295, 1.1232380867004395, 0.4818165898323059, 0.5714545249938965, 0.6785202026367188, 0.5186822414398193, 2.391972303390503, 1.1080970764160156, 0.5163429379463196])"
      ]
     },
     "metadata": {},
     "output_type": "display_data"
    },
    {
     "name": "stdout",
     "output_type": "stream",
     "text": [
      "retrying ...1secs\n"
     ]
    },
    {
     "ename": "KeyboardInterrupt",
     "evalue": "",
     "output_type": "error",
     "traceback": [
      "\u001b[0;31m---------------------------------------------------------------------------\u001b[0m",
      "\u001b[0;31mTypeError\u001b[0m                                 Traceback (most recent call last)",
      "\u001b[0;32m~/anaconda3/lib/python3.7/site-packages/urllib3/connectionpool.py\u001b[0m in \u001b[0;36m_make_request\u001b[0;34m(self, conn, method, url, timeout, chunked, **httplib_request_kw)\u001b[0m\n\u001b[1;32m    376\u001b[0m             \u001b[0;32mtry\u001b[0m\u001b[0;34m:\u001b[0m  \u001b[0;31m# Python 2.7, use buffering of HTTP responses\u001b[0m\u001b[0;34m\u001b[0m\u001b[0m\n\u001b[0;32m--> 377\u001b[0;31m                 \u001b[0mhttplib_response\u001b[0m \u001b[0;34m=\u001b[0m \u001b[0mconn\u001b[0m\u001b[0;34m.\u001b[0m\u001b[0mgetresponse\u001b[0m\u001b[0;34m(\u001b[0m\u001b[0mbuffering\u001b[0m\u001b[0;34m=\u001b[0m\u001b[0;32mTrue\u001b[0m\u001b[0;34m)\u001b[0m\u001b[0;34m\u001b[0m\u001b[0m\n\u001b[0m\u001b[1;32m    378\u001b[0m             \u001b[0;32mexcept\u001b[0m \u001b[0mTypeError\u001b[0m\u001b[0;34m:\u001b[0m  \u001b[0;31m# Python 2.6 and older, Python 3\u001b[0m\u001b[0;34m\u001b[0m\u001b[0m\n",
      "\u001b[0;31mTypeError\u001b[0m: getresponse() got an unexpected keyword argument 'buffering'",
      "\nDuring handling of the above exception, another exception occurred:\n",
      "\u001b[0;31mKeyboardInterrupt\u001b[0m                         Traceback (most recent call last)",
      "\u001b[0;32m<ipython-input-14-b5955364d829>\u001b[0m in \u001b[0;36m<module>\u001b[0;34m()\u001b[0m\n\u001b[1;32m     25\u001b[0m                 \u001b[0mmore_popular\u001b[0m \u001b[0;34m=\u001b[0m \u001b[0martist\u001b[0m\u001b[0;34m[\u001b[0m\u001b[0mitem\u001b[0m\u001b[0;34m]\u001b[0m\u001b[0;34m[\u001b[0m\u001b[0;34m'artist_popularity'\u001b[0m\u001b[0;34m]\u001b[0m\u001b[0;34m\u001b[0m\u001b[0m\n\u001b[1;32m     26\u001b[0m         \u001b[0;31m# Get audio analytical data\u001b[0m\u001b[0;34m\u001b[0m\u001b[0;34m\u001b[0m\u001b[0m\n\u001b[0;32m---> 27\u001b[0;31m         \u001b[0maudio_analysis\u001b[0m \u001b[0;34m=\u001b[0m \u001b[0msp\u001b[0m\u001b[0;34m.\u001b[0m\u001b[0maudio_analysis\u001b[0m\u001b[0;34m(\u001b[0m\u001b[0mtrack_id\u001b[0m\u001b[0;34m)\u001b[0m\u001b[0;34m\u001b[0m\u001b[0m\n\u001b[0m\u001b[1;32m     28\u001b[0m         \u001b[0maudio_section_data\u001b[0m \u001b[0;34m=\u001b[0m \u001b[0maudio_analysis\u001b[0m\u001b[0;34m[\u001b[0m\u001b[0;34m'sections'\u001b[0m\u001b[0;34m]\u001b[0m\u001b[0;34m\u001b[0m\u001b[0m\n\u001b[1;32m     29\u001b[0m \u001b[0;34m\u001b[0m\u001b[0m\n",
      "\u001b[0;32m~/anaconda3/lib/python3.7/site-packages/spotipy/client.py\u001b[0m in \u001b[0;36maudio_analysis\u001b[0;34m(self, id)\u001b[0m\n\u001b[1;32m    841\u001b[0m         '''\n\u001b[1;32m    842\u001b[0m         \u001b[0mid\u001b[0m \u001b[0;34m=\u001b[0m \u001b[0mself\u001b[0m\u001b[0;34m.\u001b[0m\u001b[0m_get_id\u001b[0m\u001b[0;34m(\u001b[0m\u001b[0;34m'track'\u001b[0m\u001b[0;34m,\u001b[0m \u001b[0mid\u001b[0m\u001b[0;34m)\u001b[0m\u001b[0;34m\u001b[0m\u001b[0m\n\u001b[0;32m--> 843\u001b[0;31m         \u001b[0;32mreturn\u001b[0m \u001b[0mself\u001b[0m\u001b[0;34m.\u001b[0m\u001b[0m_get\u001b[0m\u001b[0;34m(\u001b[0m\u001b[0;34m'audio-analysis/'\u001b[0m\u001b[0;34m+\u001b[0m\u001b[0mid\u001b[0m\u001b[0;34m)\u001b[0m\u001b[0;34m\u001b[0m\u001b[0m\n\u001b[0m\u001b[1;32m    844\u001b[0m \u001b[0;34m\u001b[0m\u001b[0m\n\u001b[1;32m    845\u001b[0m     \u001b[0;32mdef\u001b[0m \u001b[0m_get_id\u001b[0m\u001b[0;34m(\u001b[0m\u001b[0mself\u001b[0m\u001b[0;34m,\u001b[0m \u001b[0mtype\u001b[0m\u001b[0;34m,\u001b[0m \u001b[0mid\u001b[0m\u001b[0;34m)\u001b[0m\u001b[0;34m:\u001b[0m\u001b[0;34m\u001b[0m\u001b[0m\n",
      "\u001b[0;32m~/anaconda3/lib/python3.7/site-packages/spotipy/client.py\u001b[0m in \u001b[0;36m_get\u001b[0;34m(self, url, args, payload, **kwargs)\u001b[0m\n\u001b[1;32m    144\u001b[0m         \u001b[0;32mwhile\u001b[0m \u001b[0mretries\u001b[0m \u001b[0;34m>\u001b[0m \u001b[0;36m0\u001b[0m\u001b[0;34m:\u001b[0m\u001b[0;34m\u001b[0m\u001b[0m\n\u001b[1;32m    145\u001b[0m             \u001b[0;32mtry\u001b[0m\u001b[0;34m:\u001b[0m\u001b[0;34m\u001b[0m\u001b[0m\n\u001b[0;32m--> 146\u001b[0;31m                 \u001b[0;32mreturn\u001b[0m \u001b[0mself\u001b[0m\u001b[0;34m.\u001b[0m\u001b[0m_internal_call\u001b[0m\u001b[0;34m(\u001b[0m\u001b[0;34m'GET'\u001b[0m\u001b[0;34m,\u001b[0m \u001b[0murl\u001b[0m\u001b[0;34m,\u001b[0m \u001b[0mpayload\u001b[0m\u001b[0;34m,\u001b[0m \u001b[0mkwargs\u001b[0m\u001b[0;34m)\u001b[0m\u001b[0;34m\u001b[0m\u001b[0m\n\u001b[0m\u001b[1;32m    147\u001b[0m             \u001b[0;32mexcept\u001b[0m \u001b[0mSpotifyException\u001b[0m \u001b[0;32mas\u001b[0m \u001b[0me\u001b[0m\u001b[0;34m:\u001b[0m\u001b[0;34m\u001b[0m\u001b[0m\n\u001b[1;32m    148\u001b[0m                 \u001b[0mretries\u001b[0m \u001b[0;34m-=\u001b[0m \u001b[0;36m1\u001b[0m\u001b[0;34m\u001b[0m\u001b[0m\n",
      "\u001b[0;32m~/anaconda3/lib/python3.7/site-packages/spotipy/client.py\u001b[0m in \u001b[0;36m_internal_call\u001b[0;34m(self, method, url, payload, params)\u001b[0m\n\u001b[1;32m    106\u001b[0m         \u001b[0;32mif\u001b[0m \u001b[0mself\u001b[0m\u001b[0;34m.\u001b[0m\u001b[0mtrace_out\u001b[0m\u001b[0;34m:\u001b[0m\u001b[0;34m\u001b[0m\u001b[0m\n\u001b[1;32m    107\u001b[0m             \u001b[0mprint\u001b[0m\u001b[0;34m(\u001b[0m\u001b[0murl\u001b[0m\u001b[0;34m)\u001b[0m\u001b[0;34m\u001b[0m\u001b[0m\n\u001b[0;32m--> 108\u001b[0;31m         \u001b[0mr\u001b[0m \u001b[0;34m=\u001b[0m \u001b[0mself\u001b[0m\u001b[0;34m.\u001b[0m\u001b[0m_session\u001b[0m\u001b[0;34m.\u001b[0m\u001b[0mrequest\u001b[0m\u001b[0;34m(\u001b[0m\u001b[0mmethod\u001b[0m\u001b[0;34m,\u001b[0m \u001b[0murl\u001b[0m\u001b[0;34m,\u001b[0m \u001b[0mheaders\u001b[0m\u001b[0;34m=\u001b[0m\u001b[0mheaders\u001b[0m\u001b[0;34m,\u001b[0m \u001b[0mproxies\u001b[0m\u001b[0;34m=\u001b[0m\u001b[0mself\u001b[0m\u001b[0;34m.\u001b[0m\u001b[0mproxies\u001b[0m\u001b[0;34m,\u001b[0m \u001b[0;34m**\u001b[0m\u001b[0margs\u001b[0m\u001b[0;34m)\u001b[0m\u001b[0;34m\u001b[0m\u001b[0m\n\u001b[0m\u001b[1;32m    109\u001b[0m \u001b[0;34m\u001b[0m\u001b[0m\n\u001b[1;32m    110\u001b[0m         \u001b[0;32mif\u001b[0m \u001b[0mself\u001b[0m\u001b[0;34m.\u001b[0m\u001b[0mtrace\u001b[0m\u001b[0;34m:\u001b[0m  \u001b[0;31m# pragma: no cover\u001b[0m\u001b[0;34m\u001b[0m\u001b[0m\n",
      "\u001b[0;32m~/anaconda3/lib/python3.7/site-packages/requests/sessions.py\u001b[0m in \u001b[0;36mrequest\u001b[0;34m(self, method, url, params, data, headers, cookies, files, auth, timeout, allow_redirects, proxies, hooks, stream, verify, cert, json)\u001b[0m\n\u001b[1;32m    510\u001b[0m         }\n\u001b[1;32m    511\u001b[0m         \u001b[0msend_kwargs\u001b[0m\u001b[0;34m.\u001b[0m\u001b[0mupdate\u001b[0m\u001b[0;34m(\u001b[0m\u001b[0msettings\u001b[0m\u001b[0;34m)\u001b[0m\u001b[0;34m\u001b[0m\u001b[0m\n\u001b[0;32m--> 512\u001b[0;31m         \u001b[0mresp\u001b[0m \u001b[0;34m=\u001b[0m \u001b[0mself\u001b[0m\u001b[0;34m.\u001b[0m\u001b[0msend\u001b[0m\u001b[0;34m(\u001b[0m\u001b[0mprep\u001b[0m\u001b[0;34m,\u001b[0m \u001b[0;34m**\u001b[0m\u001b[0msend_kwargs\u001b[0m\u001b[0;34m)\u001b[0m\u001b[0;34m\u001b[0m\u001b[0m\n\u001b[0m\u001b[1;32m    513\u001b[0m \u001b[0;34m\u001b[0m\u001b[0m\n\u001b[1;32m    514\u001b[0m         \u001b[0;32mreturn\u001b[0m \u001b[0mresp\u001b[0m\u001b[0;34m\u001b[0m\u001b[0m\n",
      "\u001b[0;32m~/anaconda3/lib/python3.7/site-packages/requests/sessions.py\u001b[0m in \u001b[0;36msend\u001b[0;34m(self, request, **kwargs)\u001b[0m\n\u001b[1;32m    620\u001b[0m \u001b[0;34m\u001b[0m\u001b[0m\n\u001b[1;32m    621\u001b[0m         \u001b[0;31m# Send the request\u001b[0m\u001b[0;34m\u001b[0m\u001b[0;34m\u001b[0m\u001b[0m\n\u001b[0;32m--> 622\u001b[0;31m         \u001b[0mr\u001b[0m \u001b[0;34m=\u001b[0m \u001b[0madapter\u001b[0m\u001b[0;34m.\u001b[0m\u001b[0msend\u001b[0m\u001b[0;34m(\u001b[0m\u001b[0mrequest\u001b[0m\u001b[0;34m,\u001b[0m \u001b[0;34m**\u001b[0m\u001b[0mkwargs\u001b[0m\u001b[0;34m)\u001b[0m\u001b[0;34m\u001b[0m\u001b[0m\n\u001b[0m\u001b[1;32m    623\u001b[0m \u001b[0;34m\u001b[0m\u001b[0m\n\u001b[1;32m    624\u001b[0m         \u001b[0;31m# Total elapsed time of the request (approximately)\u001b[0m\u001b[0;34m\u001b[0m\u001b[0;34m\u001b[0m\u001b[0m\n",
      "\u001b[0;32m~/anaconda3/lib/python3.7/site-packages/requests/adapters.py\u001b[0m in \u001b[0;36msend\u001b[0;34m(self, request, stream, timeout, verify, cert, proxies)\u001b[0m\n\u001b[1;32m    443\u001b[0m                     \u001b[0mdecode_content\u001b[0m\u001b[0;34m=\u001b[0m\u001b[0;32mFalse\u001b[0m\u001b[0;34m,\u001b[0m\u001b[0;34m\u001b[0m\u001b[0m\n\u001b[1;32m    444\u001b[0m                     \u001b[0mretries\u001b[0m\u001b[0;34m=\u001b[0m\u001b[0mself\u001b[0m\u001b[0;34m.\u001b[0m\u001b[0mmax_retries\u001b[0m\u001b[0;34m,\u001b[0m\u001b[0;34m\u001b[0m\u001b[0m\n\u001b[0;32m--> 445\u001b[0;31m                     \u001b[0mtimeout\u001b[0m\u001b[0;34m=\u001b[0m\u001b[0mtimeout\u001b[0m\u001b[0;34m\u001b[0m\u001b[0m\n\u001b[0m\u001b[1;32m    446\u001b[0m                 )\n\u001b[1;32m    447\u001b[0m \u001b[0;34m\u001b[0m\u001b[0m\n",
      "\u001b[0;32m~/anaconda3/lib/python3.7/site-packages/urllib3/connectionpool.py\u001b[0m in \u001b[0;36murlopen\u001b[0;34m(self, method, url, body, headers, retries, redirect, assert_same_host, timeout, pool_timeout, release_conn, chunked, body_pos, **response_kw)\u001b[0m\n\u001b[1;32m    598\u001b[0m                                                   \u001b[0mtimeout\u001b[0m\u001b[0;34m=\u001b[0m\u001b[0mtimeout_obj\u001b[0m\u001b[0;34m,\u001b[0m\u001b[0;34m\u001b[0m\u001b[0m\n\u001b[1;32m    599\u001b[0m                                                   \u001b[0mbody\u001b[0m\u001b[0;34m=\u001b[0m\u001b[0mbody\u001b[0m\u001b[0;34m,\u001b[0m \u001b[0mheaders\u001b[0m\u001b[0;34m=\u001b[0m\u001b[0mheaders\u001b[0m\u001b[0;34m,\u001b[0m\u001b[0;34m\u001b[0m\u001b[0m\n\u001b[0;32m--> 600\u001b[0;31m                                                   chunked=chunked)\n\u001b[0m\u001b[1;32m    601\u001b[0m \u001b[0;34m\u001b[0m\u001b[0m\n\u001b[1;32m    602\u001b[0m             \u001b[0;31m# If we're going to release the connection in ``finally:``, then\u001b[0m\u001b[0;34m\u001b[0m\u001b[0;34m\u001b[0m\u001b[0m\n",
      "\u001b[0;32m~/anaconda3/lib/python3.7/site-packages/urllib3/connectionpool.py\u001b[0m in \u001b[0;36m_make_request\u001b[0;34m(self, conn, method, url, timeout, chunked, **httplib_request_kw)\u001b[0m\n\u001b[1;32m    378\u001b[0m             \u001b[0;32mexcept\u001b[0m \u001b[0mTypeError\u001b[0m\u001b[0;34m:\u001b[0m  \u001b[0;31m# Python 2.6 and older, Python 3\u001b[0m\u001b[0;34m\u001b[0m\u001b[0m\n\u001b[1;32m    379\u001b[0m                 \u001b[0;32mtry\u001b[0m\u001b[0;34m:\u001b[0m\u001b[0;34m\u001b[0m\u001b[0m\n\u001b[0;32m--> 380\u001b[0;31m                     \u001b[0mhttplib_response\u001b[0m \u001b[0;34m=\u001b[0m \u001b[0mconn\u001b[0m\u001b[0;34m.\u001b[0m\u001b[0mgetresponse\u001b[0m\u001b[0;34m(\u001b[0m\u001b[0;34m)\u001b[0m\u001b[0;34m\u001b[0m\u001b[0m\n\u001b[0m\u001b[1;32m    381\u001b[0m                 \u001b[0;32mexcept\u001b[0m \u001b[0mException\u001b[0m \u001b[0;32mas\u001b[0m \u001b[0me\u001b[0m\u001b[0;34m:\u001b[0m\u001b[0;34m\u001b[0m\u001b[0m\n\u001b[1;32m    382\u001b[0m                     \u001b[0;31m# Remove the TypeError from the exception chain in Python 3;\u001b[0m\u001b[0;34m\u001b[0m\u001b[0;34m\u001b[0m\u001b[0m\n",
      "\u001b[0;32m~/anaconda3/lib/python3.7/http/client.py\u001b[0m in \u001b[0;36mgetresponse\u001b[0;34m(self)\u001b[0m\n\u001b[1;32m   1319\u001b[0m         \u001b[0;32mtry\u001b[0m\u001b[0;34m:\u001b[0m\u001b[0;34m\u001b[0m\u001b[0m\n\u001b[1;32m   1320\u001b[0m             \u001b[0;32mtry\u001b[0m\u001b[0;34m:\u001b[0m\u001b[0;34m\u001b[0m\u001b[0m\n\u001b[0;32m-> 1321\u001b[0;31m                 \u001b[0mresponse\u001b[0m\u001b[0;34m.\u001b[0m\u001b[0mbegin\u001b[0m\u001b[0;34m(\u001b[0m\u001b[0;34m)\u001b[0m\u001b[0;34m\u001b[0m\u001b[0m\n\u001b[0m\u001b[1;32m   1322\u001b[0m             \u001b[0;32mexcept\u001b[0m \u001b[0mConnectionError\u001b[0m\u001b[0;34m:\u001b[0m\u001b[0;34m\u001b[0m\u001b[0m\n\u001b[1;32m   1323\u001b[0m                 \u001b[0mself\u001b[0m\u001b[0;34m.\u001b[0m\u001b[0mclose\u001b[0m\u001b[0;34m(\u001b[0m\u001b[0;34m)\u001b[0m\u001b[0;34m\u001b[0m\u001b[0m\n",
      "\u001b[0;32m~/anaconda3/lib/python3.7/http/client.py\u001b[0m in \u001b[0;36mbegin\u001b[0;34m(self)\u001b[0m\n\u001b[1;32m    294\u001b[0m         \u001b[0;31m# read until we get a non-100 response\u001b[0m\u001b[0;34m\u001b[0m\u001b[0;34m\u001b[0m\u001b[0m\n\u001b[1;32m    295\u001b[0m         \u001b[0;32mwhile\u001b[0m \u001b[0;32mTrue\u001b[0m\u001b[0;34m:\u001b[0m\u001b[0;34m\u001b[0m\u001b[0m\n\u001b[0;32m--> 296\u001b[0;31m             \u001b[0mversion\u001b[0m\u001b[0;34m,\u001b[0m \u001b[0mstatus\u001b[0m\u001b[0;34m,\u001b[0m \u001b[0mreason\u001b[0m \u001b[0;34m=\u001b[0m \u001b[0mself\u001b[0m\u001b[0;34m.\u001b[0m\u001b[0m_read_status\u001b[0m\u001b[0;34m(\u001b[0m\u001b[0;34m)\u001b[0m\u001b[0;34m\u001b[0m\u001b[0m\n\u001b[0m\u001b[1;32m    297\u001b[0m             \u001b[0;32mif\u001b[0m \u001b[0mstatus\u001b[0m \u001b[0;34m!=\u001b[0m \u001b[0mCONTINUE\u001b[0m\u001b[0;34m:\u001b[0m\u001b[0;34m\u001b[0m\u001b[0m\n\u001b[1;32m    298\u001b[0m                 \u001b[0;32mbreak\u001b[0m\u001b[0;34m\u001b[0m\u001b[0m\n",
      "\u001b[0;32m~/anaconda3/lib/python3.7/http/client.py\u001b[0m in \u001b[0;36m_read_status\u001b[0;34m(self)\u001b[0m\n\u001b[1;32m    255\u001b[0m \u001b[0;34m\u001b[0m\u001b[0m\n\u001b[1;32m    256\u001b[0m     \u001b[0;32mdef\u001b[0m \u001b[0m_read_status\u001b[0m\u001b[0;34m(\u001b[0m\u001b[0mself\u001b[0m\u001b[0;34m)\u001b[0m\u001b[0;34m:\u001b[0m\u001b[0;34m\u001b[0m\u001b[0m\n\u001b[0;32m--> 257\u001b[0;31m         \u001b[0mline\u001b[0m \u001b[0;34m=\u001b[0m \u001b[0mstr\u001b[0m\u001b[0;34m(\u001b[0m\u001b[0mself\u001b[0m\u001b[0;34m.\u001b[0m\u001b[0mfp\u001b[0m\u001b[0;34m.\u001b[0m\u001b[0mreadline\u001b[0m\u001b[0;34m(\u001b[0m\u001b[0m_MAXLINE\u001b[0m \u001b[0;34m+\u001b[0m \u001b[0;36m1\u001b[0m\u001b[0;34m)\u001b[0m\u001b[0;34m,\u001b[0m \u001b[0;34m\"iso-8859-1\"\u001b[0m\u001b[0;34m)\u001b[0m\u001b[0;34m\u001b[0m\u001b[0m\n\u001b[0m\u001b[1;32m    258\u001b[0m         \u001b[0;32mif\u001b[0m \u001b[0mlen\u001b[0m\u001b[0;34m(\u001b[0m\u001b[0mline\u001b[0m\u001b[0;34m)\u001b[0m \u001b[0;34m>\u001b[0m \u001b[0m_MAXLINE\u001b[0m\u001b[0;34m:\u001b[0m\u001b[0;34m\u001b[0m\u001b[0m\n\u001b[1;32m    259\u001b[0m             \u001b[0;32mraise\u001b[0m \u001b[0mLineTooLong\u001b[0m\u001b[0;34m(\u001b[0m\u001b[0;34m\"status line\"\u001b[0m\u001b[0;34m)\u001b[0m\u001b[0;34m\u001b[0m\u001b[0m\n",
      "\u001b[0;32m~/anaconda3/lib/python3.7/socket.py\u001b[0m in \u001b[0;36mreadinto\u001b[0;34m(self, b)\u001b[0m\n\u001b[1;32m    587\u001b[0m         \u001b[0;32mwhile\u001b[0m \u001b[0;32mTrue\u001b[0m\u001b[0;34m:\u001b[0m\u001b[0;34m\u001b[0m\u001b[0m\n\u001b[1;32m    588\u001b[0m             \u001b[0;32mtry\u001b[0m\u001b[0;34m:\u001b[0m\u001b[0;34m\u001b[0m\u001b[0m\n\u001b[0;32m--> 589\u001b[0;31m                 \u001b[0;32mreturn\u001b[0m \u001b[0mself\u001b[0m\u001b[0;34m.\u001b[0m\u001b[0m_sock\u001b[0m\u001b[0;34m.\u001b[0m\u001b[0mrecv_into\u001b[0m\u001b[0;34m(\u001b[0m\u001b[0mb\u001b[0m\u001b[0;34m)\u001b[0m\u001b[0;34m\u001b[0m\u001b[0m\n\u001b[0m\u001b[1;32m    590\u001b[0m             \u001b[0;32mexcept\u001b[0m \u001b[0mtimeout\u001b[0m\u001b[0;34m:\u001b[0m\u001b[0;34m\u001b[0m\u001b[0m\n\u001b[1;32m    591\u001b[0m                 \u001b[0mself\u001b[0m\u001b[0;34m.\u001b[0m\u001b[0m_timeout_occurred\u001b[0m \u001b[0;34m=\u001b[0m \u001b[0;32mTrue\u001b[0m\u001b[0;34m\u001b[0m\u001b[0m\n",
      "\u001b[0;32m~/anaconda3/lib/python3.7/site-packages/urllib3/contrib/pyopenssl.py\u001b[0m in \u001b[0;36mrecv_into\u001b[0;34m(self, *args, **kwargs)\u001b[0m\n\u001b[1;32m    283\u001b[0m     \u001b[0;32mdef\u001b[0m \u001b[0mrecv_into\u001b[0m\u001b[0;34m(\u001b[0m\u001b[0mself\u001b[0m\u001b[0;34m,\u001b[0m \u001b[0;34m*\u001b[0m\u001b[0margs\u001b[0m\u001b[0;34m,\u001b[0m \u001b[0;34m**\u001b[0m\u001b[0mkwargs\u001b[0m\u001b[0;34m)\u001b[0m\u001b[0;34m:\u001b[0m\u001b[0;34m\u001b[0m\u001b[0m\n\u001b[1;32m    284\u001b[0m         \u001b[0;32mtry\u001b[0m\u001b[0;34m:\u001b[0m\u001b[0;34m\u001b[0m\u001b[0m\n\u001b[0;32m--> 285\u001b[0;31m             \u001b[0;32mreturn\u001b[0m \u001b[0mself\u001b[0m\u001b[0;34m.\u001b[0m\u001b[0mconnection\u001b[0m\u001b[0;34m.\u001b[0m\u001b[0mrecv_into\u001b[0m\u001b[0;34m(\u001b[0m\u001b[0;34m*\u001b[0m\u001b[0margs\u001b[0m\u001b[0;34m,\u001b[0m \u001b[0;34m**\u001b[0m\u001b[0mkwargs\u001b[0m\u001b[0;34m)\u001b[0m\u001b[0;34m\u001b[0m\u001b[0m\n\u001b[0m\u001b[1;32m    286\u001b[0m         \u001b[0;32mexcept\u001b[0m \u001b[0mOpenSSL\u001b[0m\u001b[0;34m.\u001b[0m\u001b[0mSSL\u001b[0m\u001b[0;34m.\u001b[0m\u001b[0mSysCallError\u001b[0m \u001b[0;32mas\u001b[0m \u001b[0me\u001b[0m\u001b[0;34m:\u001b[0m\u001b[0;34m\u001b[0m\u001b[0m\n\u001b[1;32m    287\u001b[0m             \u001b[0;32mif\u001b[0m \u001b[0mself\u001b[0m\u001b[0;34m.\u001b[0m\u001b[0msuppress_ragged_eofs\u001b[0m \u001b[0;32mand\u001b[0m \u001b[0me\u001b[0m\u001b[0;34m.\u001b[0m\u001b[0margs\u001b[0m \u001b[0;34m==\u001b[0m \u001b[0;34m(\u001b[0m\u001b[0;34m-\u001b[0m\u001b[0;36m1\u001b[0m\u001b[0;34m,\u001b[0m \u001b[0;34m'Unexpected EOF'\u001b[0m\u001b[0;34m)\u001b[0m\u001b[0;34m:\u001b[0m\u001b[0;34m\u001b[0m\u001b[0m\n",
      "\u001b[0;32m~/anaconda3/lib/python3.7/site-packages/OpenSSL/SSL.py\u001b[0m in \u001b[0;36mrecv_into\u001b[0;34m(self, buffer, nbytes, flags)\u001b[0m\n\u001b[1;32m   1811\u001b[0m             \u001b[0mresult\u001b[0m \u001b[0;34m=\u001b[0m \u001b[0m_lib\u001b[0m\u001b[0;34m.\u001b[0m\u001b[0mSSL_peek\u001b[0m\u001b[0;34m(\u001b[0m\u001b[0mself\u001b[0m\u001b[0;34m.\u001b[0m\u001b[0m_ssl\u001b[0m\u001b[0;34m,\u001b[0m \u001b[0mbuf\u001b[0m\u001b[0;34m,\u001b[0m \u001b[0mnbytes\u001b[0m\u001b[0;34m)\u001b[0m\u001b[0;34m\u001b[0m\u001b[0m\n\u001b[1;32m   1812\u001b[0m         \u001b[0;32melse\u001b[0m\u001b[0;34m:\u001b[0m\u001b[0;34m\u001b[0m\u001b[0m\n\u001b[0;32m-> 1813\u001b[0;31m             \u001b[0mresult\u001b[0m \u001b[0;34m=\u001b[0m \u001b[0m_lib\u001b[0m\u001b[0;34m.\u001b[0m\u001b[0mSSL_read\u001b[0m\u001b[0;34m(\u001b[0m\u001b[0mself\u001b[0m\u001b[0;34m.\u001b[0m\u001b[0m_ssl\u001b[0m\u001b[0;34m,\u001b[0m \u001b[0mbuf\u001b[0m\u001b[0;34m,\u001b[0m \u001b[0mnbytes\u001b[0m\u001b[0;34m)\u001b[0m\u001b[0;34m\u001b[0m\u001b[0m\n\u001b[0m\u001b[1;32m   1814\u001b[0m         \u001b[0mself\u001b[0m\u001b[0;34m.\u001b[0m\u001b[0m_raise_ssl_error\u001b[0m\u001b[0;34m(\u001b[0m\u001b[0mself\u001b[0m\u001b[0;34m.\u001b[0m\u001b[0m_ssl\u001b[0m\u001b[0;34m,\u001b[0m \u001b[0mresult\u001b[0m\u001b[0;34m)\u001b[0m\u001b[0;34m\u001b[0m\u001b[0m\n\u001b[1;32m   1815\u001b[0m \u001b[0;34m\u001b[0m\u001b[0m\n",
      "\u001b[0;31mKeyboardInterrupt\u001b[0m: "
     ]
    }
   ],
   "source": [
    "data = []\n",
    "for i in range(0,len(playlist)):\n",
    "    playlist_track_info = playlist[i]['tracks']['items']\n",
    "    \n",
    "    for item in range(0,len(playlist_track_info)):\n",
    "        #get track data\n",
    "        track_id = playlist_track_info[item]['track']['id']\n",
    "        track_name = playlist_track_info[item]['track']['name']\n",
    "        track_popularity = playlist_track_info[item]['track']['popularity']\n",
    "        playlist_artist_info = playlist_track_info[item]['track']['artists']\n",
    "        artist = []\n",
    "        #get artist data\n",
    "        for item in range(0,len(playlist_artist_info)):\n",
    "            artist_id = playlist_artist_info[item]['id']\n",
    "            artist_info = sp.artist(artist_id)\n",
    "            artist_popularity = (artist_info['popularity'])\n",
    "            artist_name = artist_info['name']\n",
    "            artist_follower = artist_info['followers']['total']\n",
    "            artist.append({'artist_name':artist_name,'artist_id':artist_id,'artist_popularity':artist_popularity,'artist_followers':artist_follower})\n",
    "        #If there is more than 1 artist, choose to use artist who is more popular\n",
    "        more_popular = 0\n",
    "        for item in range(0,len(artist)):\n",
    "            if artist[item]['artist_popularity'] > more_popular:\n",
    "                more_popular_index = item\n",
    "                more_popular = artist[item]['artist_popularity']\n",
    "        # Get audio analytical data\n",
    "        audio_analysis = sp.audio_analysis(track_id)\n",
    "        audio_section_data = audio_analysis['sections']\n",
    "        \n",
    "        weight = []\n",
    "        confidence = []\n",
    "        loudness = []\n",
    "        tempo = []\n",
    "        tempo_confidence = []\n",
    "        key = []\n",
    "        key_confidence = []\n",
    "        mode = []\n",
    "        mode_confidence = []\n",
    "        time_signature = []\n",
    "        time_signature_confidence = []\n",
    "        \n",
    "        #rearrange sectional audio analysis dataset for computation\n",
    "        for item in range(0,len(audio_analysis['sections'])):\n",
    "            # Note: weight = duration of each section\n",
    "            weight.append(audio_analysis['sections'][item]['duration'])\n",
    "            confidence.append(audio_analysis['sections'][item]['confidence'])\n",
    "            loudness.append(audio_analysis['sections'][item]['loudness'])\n",
    "            tempo.append(audio_analysis['sections'][item][\"tempo\"])\n",
    "            tempo_confidence.append(audio_analysis['sections'][item][\"tempo_confidence\"])\n",
    "            key.append(audio_analysis['sections'][item]['key'])\n",
    "            key_confidence.append(audio_analysis['sections'][item]['key_confidence'])\n",
    "            mode.append(audio_analysis['sections'][item]['mode'])\n",
    "            mode_confidence.append(audio_analysis['sections'][item]['mode_confidence'])\n",
    "            time_signature.append(audio_analysis['sections'][item]['time_signature'])\n",
    "            time_signature_confidence.append(audio_analysis['sections'][item]['time_signature_confidence'])\n",
    "        \n",
    "        #balancing data as each section has different duration \n",
    "        average_duration = np.average(weight)\n",
    "        balancing_coeff = np.array(weight)/average_duration\n",
    "        balanced_data = []\n",
    "        balanced_data.append(confidence*balancing_coeff)\n",
    "        balanced_data.append(loudness*balancing_coeff)\n",
    "        balanced_data.append(tempo*balancing_coeff)\n",
    "        balanced_data.append(tempo_confidence*balancing_coeff)\n",
    "        balanced_data.append(key*balancing_coeff)\n",
    "        balanced_data.append(key_confidence*balancing_coeff)\n",
    "        balanced_data.append(mode*balancing_coeff)\n",
    "        balanced_data.append(mode_confidence*balancing_coeff)\n",
    "        balanced_data.append(time_signature*balancing_coeff)\n",
    "        balanced_data.append(time_signature_confidence*balancing_coeff)\n",
    "        \n",
    "        \n",
    "        #get mean, standard deviation, and kurtosis for each data\n",
    "        calculated_data = []\n",
    "        for item in range(0,len(balanced_data)):\n",
    "            section = array('f')\n",
    "            for i in range(0,len(balanced_data[item])):\n",
    "                section.append(balanced_data[item][i])\n",
    "            display(section)\n",
    "            section_kur = kurtosis(section)\n",
    "            mean = np.mean(balanced_data[item])\n",
    "            std = np.std(balanced_data[item])\n",
    "            calculated_data.append([mean,std,section_kur])\n",
    "        \n",
    "        audio_segment_data = audio_analysis['segments']\n",
    "        pitch1 = []\n",
    "        pitch2 = []\n",
    "        pitch3 = []\n",
    "        pitch4 = []\n",
    "        pitch5 = []\n",
    "        pitch6 = []\n",
    "        pitch7 = []\n",
    "        pitch8 = []\n",
    "        pitch9 = []\n",
    "        pitch10 = []\n",
    "        pitch11 = []\n",
    "        pitch12 = []\n",
    "        timbre1 = []\n",
    "        timbre2 = []\n",
    "        timbre3 = []\n",
    "        timbre4 = []\n",
    "        timbre5 = []\n",
    "        timbre6 = []\n",
    "        timbre7 = []\n",
    "        timbre8 = []\n",
    "        timbre9 = []\n",
    "        timbre10 = []\n",
    "        timbre11 = []\n",
    "        timbre12 = []\n",
    "        weight_seg = []\n",
    "        \n",
    "        for item in range(0,len(audio_analysis['segments'])):\n",
    "            weight_seg.append(audio_analysis['segments'][item]['duration'])\n",
    "            pitch1.append(audio_analysis['segments'][item]['pitches'][0])\n",
    "            pitch2.append(audio_analysis['segments'][item]['pitches'][1])\n",
    "            pitch3.append(audio_analysis['segments'][item]['pitches'][2])\n",
    "            pitch4.append(audio_analysis['segments'][item]['pitches'][3])\n",
    "            pitch5.append(audio_analysis['segments'][item]['pitches'][4])\n",
    "            pitch6.append(audio_analysis['segments'][item]['pitches'][5])\n",
    "            pitch7.append(audio_analysis['segments'][item]['pitches'][6])\n",
    "            pitch8.append(audio_analysis['segments'][item]['pitches'][7])\n",
    "            pitch9.append(audio_analysis['segments'][item]['pitches'][8])\n",
    "            pitch10.append(audio_analysis['segments'][item]['pitches'][9])\n",
    "            pitch11.append(audio_analysis['segments'][item]['pitches'][10])\n",
    "            pitch12.append(audio_analysis['segments'][item]['pitches'][11])\n",
    "            timbre1.append(audio_analysis['segments'][item]['timbre'][0])\n",
    "            timbre2.append(audio_analysis['segments'][item]['timbre'][1])\n",
    "            timbre3.append(audio_analysis['segments'][item]['timbre'][2])\n",
    "            timbre4.append(audio_analysis['segments'][item]['timbre'][3])\n",
    "            timbre5.append(audio_analysis['segments'][item]['timbre'][4])\n",
    "            timbre6.append(audio_analysis['segments'][item]['timbre'][5])\n",
    "            timbre7.append(audio_analysis['segments'][item]['timbre'][6])\n",
    "            timbre8.append(audio_analysis['segments'][item]['timbre'][7])\n",
    "            timbre9.append(audio_analysis['segments'][item]['timbre'][8])\n",
    "            timbre10.append(audio_analysis['segments'][item]['timbre'][9])\n",
    "            timbre11.append(audio_analysis['segments'][item]['timbre'][10])\n",
    "            timbre12.append(audio_analysis['segments'][item]['timbre'][11])\n",
    "            \n",
    "        \n",
    "        average_duration_seg = np.average(weight_seg)\n",
    "        balancing_coeff_seg = np.array(weight_seg)/average_duration_seg\n",
    "        pitch_balanced_data = []\n",
    "        timbre_balanced_data = []\n",
    "        pitch_balanced_data.append(pitch1*balancing_coeff_seg)\n",
    "        pitch_balanced_data.append(pitch2*balancing_coeff_seg) \n",
    "        pitch_balanced_data.append(pitch3*balancing_coeff_seg) \n",
    "        pitch_balanced_data.append(pitch4*balancing_coeff_seg) \n",
    "        pitch_balanced_data.append(pitch5*balancing_coeff_seg) \n",
    "        pitch_balanced_data.append(pitch6*balancing_coeff_seg) \n",
    "        pitch_balanced_data.append(pitch7*balancing_coeff_seg) \n",
    "        pitch_balanced_data.append(pitch8*balancing_coeff_seg) \n",
    "        pitch_balanced_data.append(pitch9*balancing_coeff_seg) \n",
    "        pitch_balanced_data.append(pitch10*balancing_coeff_seg) \n",
    "        pitch_balanced_data.append(pitch11*balancing_coeff_seg) \n",
    "        pitch_balanced_data.append(pitch12*balancing_coeff_seg) \n",
    "        timbre_balanced_data.append(timbre1*balancing_coeff_seg)  \n",
    "        timbre_balanced_data.append(timbre2*balancing_coeff_seg)\n",
    "        timbre_balanced_data.append(timbre3*balancing_coeff_seg)\n",
    "        timbre_balanced_data.append(timbre4*balancing_coeff_seg)\n",
    "        timbre_balanced_data.append(timbre5*balancing_coeff_seg)\n",
    "        timbre_balanced_data.append(timbre6*balancing_coeff_seg)\n",
    "        timbre_balanced_data.append(timbre7*balancing_coeff_seg)\n",
    "        timbre_balanced_data.append(timbre8*balancing_coeff_seg)\n",
    "        timbre_balanced_data.append(timbre9*balancing_coeff_seg)\n",
    "        timbre_balanced_data.append(timbre10*balancing_coeff_seg)\n",
    "        timbre_balanced_data.append(timbre11*balancing_coeff_seg)\n",
    "        timbre_balanced_data.append(timbre12*balancing_coeff_seg)\n",
    "        \n",
    "        #get statistics for pitch,\n",
    "        pitch_data = []\n",
    "        total = []\n",
    "        for item in range(0,len(pitch_balanced_data)):\n",
    "            segment_pitch = array('f')\n",
    "            for i in range(0,len(pitch_balanced_data[item])):\n",
    "                segment_pitch.append(pitch_balanced_data[item][i])\n",
    "            mean = np.mean(pitch_balanced_data[item])\n",
    "            std = np.std(pitch_balanced_data[item])\n",
    "            total.append(sum(pitch_balanced_data[item]))\n",
    "            iqr_pit_75 = np.percentile(pitch_balanced_data[item],75)\n",
    "            iqr_pit_25 = np.percentile(pitch_balanced_data[item],25)\n",
    "            iqr_pit = iqr_pit_75 - iqr_pit_25\n",
    "            seg_pit_kurtosis = kurtosis(segment_pitch)\n",
    "            pitch_data.append([mean,std,iqr_pit,seg_pit_kurtosis])\n",
    "        \n",
    "        pitch_percentile = [x/sum(total) for x in total]\n",
    "        pitch_entropy = entropy(pitch_percentile)\n",
    "        \n",
    "    \n",
    "        #get statistics for timbre\n",
    "        timbre_data = []\n",
    "        total = []\n",
    "        for item in range(0,len(timbre_balanced_data)):\n",
    "            segment_timbre = array('f')\n",
    "            for i in range(0,len(timbre_balanced_data[item])):\n",
    "                segment_timbre.append(timbre_balanced_data[item][i])\n",
    "            mean = np.mean(timbre_balanced_data[item])\n",
    "            std = np.std(timbre_balanced_data[item])\n",
    "            total.append(sum(timbre_balanced_data[item]))\n",
    "            iqr_tim_75 = np.percentile(timbre_balanced_data[item],75)\n",
    "            iqr_tim_25 = np.percentile(timbre_balanced_data[item],25)\n",
    "            iqr_tim = iqr_tim_75 - iqr_tim_25\n",
    "            seg_tim_kurtosis = kurtosis(segment_timbre)\n",
    "            timbre_data.append([mean,std,iqr_tim,seg_tim_kurtosis])\n",
    "            \n",
    "        timbre_percentile = [x/sum(total) for x in total]\n",
    "        timbre_entropy = entropy(timbre_percentile)\n",
    "        \n",
    "        \n",
    "        if track_id not in data:\n",
    "            data.append({\"track_name\":track_name,\"artist_name\":artist[more_popular_index]['artist_name'],\\\n",
    "                         \"track_id\":track_id,\"artist_id\":artist[more_popular_index][\"artist_id\"],\\\n",
    "                         \"track_popularity\":track_popularity,\"artist_popularity\":artist[more_popular_index][\"artist_popularity\"],\\\n",
    "                         \"artist_followers\":artist[more_popular_index][\"artist_followers\"],\"confidence_mean\":calculated_data[0][0],\\\n",
    "                         \"confidence_std\":calculated_data[0][1],\"confidence_kurtosis\":calculated_data[0][2],\"loudness_mean\":calculated_data[1][0],\\\n",
    "                         \"loudness_std\":calculated_data[1][1],\"loudness_kurtosis\":calculated_data[1][2],\"tempo_mean\":calculated_data[2][0],\\\n",
    "                         \"tempo_std\":calculated_data[2][1],\"tempo_kurtosis\":calculated_data[2][2],\"tempo_confidence_mean\":calculated_data[3][0],\\\n",
    "                         \"tempo_confidence_std\":calculated_data[3][1],\"tempo_confidence_kurtosis\":calculated_data[3][2],\"key_mean\":calculated_data[4][0],\\\n",
    "                         \"key_std\":calculated_data[4][1],\"key_kurtosis\":calculated_data[4][2],\"key_confidence_mean\":calculated_data[5][0],\\\n",
    "                         \"key_confidence_std\":calculated_data[5][1],\"key_confidence_kurtosis\":calculated_data[5][2],\"mode_mean\":calculated_data[6][0],\\\n",
    "                         \"mode_std\":calculated_data[6][1],\"mode_kurtosis\":calculated_data[6][2],\"mode_confidence_mean\":calculated_data[7][0],\\\n",
    "                         \"mode_confidence_std\":calculated_data[7][1],\"mode_confidence_kurtosis\":calculated_data[7][2], \\\n",
    "                         \"time_signature_mean\":calculated_data[8][0],\"time_signature_std\":calculated_data[8][1],\"time_signature_kurtosis\":calculated_data[8][2],\\\n",
    "                         \"time_signature_confidence_mean\":calculated_data[9][0],\"time_signature_confidence_std\":calculated_data[9][1],\\\n",
    "                         \"time_signature_confidence_kurtosis\":calculated_data[9][2],\"C_dominance_mean\":pitch_data[0][0],\"C_dominance_std\":pitch_data[0][1],\\\n",
    "                         \"C_dominance_iqr\":pitch_data[0][2],\"C_dominance_kurtosis\":pitch_data[0][3],\"C#_dominance\":pitch_data[1][0],\"C#_dominance_std\":pitch_data[1][1],\\\n",
    "                         \"C#_dominance_iqr\":pitch_data[1][2],\"C#_dominance_kurtosis\":pitch_data[1][3],\"D_dominance_mean\":pitch_data[2][0],\\\n",
    "                         \"D_dominance_std\":pitch_data[2][1],\"D_dominance_iqr\":pitch_data[2][2], \"D_dominance_kurtosis\":pitch_data[2][3],\\\n",
    "                         \"D#_dominance_mean\":pitch_data[3][0],\"D#_dominance_std\":pitch_data[3][1],\"D#_dominance_iqr\":pitch_data[3][2],\"D#_dominance_kurtosis\":pitch_data[3][3],\\\n",
    "                         \"E_dominance_mean\":pitch_data[4][0],\"E_dominance_std\":pitch_data[4][1],\"E_dominance_iqr\":pitch_data[4][2],\"E_dominance_kurtosis\":pitch_data[4][3],\\\n",
    "                         \"F_dominance_mean\":pitch_data[5][0],\"F_dominance_std\":pitch_data[5][1],\"F_dominance_iqr\":pitch_data[5][2],\"F_dominance_kurtosis\":pitch_data[5][3],\\\n",
    "                         \"F#_dominance_mean\":pitch_data[6][0],\"F#_dominance_std\":pitch_data[6][1],\"F#_dominance_iqr\":pitch_data[6][2],\"F#_dominance_kurtosis\":pitch_data[6][3],\\\n",
    "                         \"G_dominance_mean\":pitch_data[7][0],\"G_dominance_std\":pitch_data[7][1],\"G_dominance_iqr\":pitch_data[7][2],\"G_dominance_kurtosis\":pitch_data[7][3],\\\n",
    "                         \"G#_dominance_mean\":pitch_data[8][0],\"G#_dominance_std\":pitch_data[8][1],\"G#_dominance_iqr\":pitch_data[8][2],\"G#_dominance_kurtosis\":pitch_data[8][3],\\\n",
    "                         \"A_dominance_mean\":pitch_data[9][0],\"A_dominance_std\":pitch_data[9][1],\"A_dominance_iqr\":pitch_data[9][2],\"A_dominance_kurtosis\":pitch_data[9][3],\\\n",
    "                         \"A#_dominance_mean\":pitch_data[10][0],\"A#_dominance_std\":pitch_data[10][1],\"A#_dominance_iqr\":pitch_data[10][2],\"A#_dominance_kurtosis\":pitch_data[10][3],\\\n",
    "                         \"B_dominance_mean\":pitch_data[11][0],\"B_dominance_std\":pitch_data[11][1],\"B_dominance_iqr\":pitch_data[11][2],\"B_dominance_kurtosis\":pitch_data[11][3],\\\n",
    "                         \"pitch_entropy\":pitch_entropy,\"timbre_1_mean\":timbre_data[0][0],\"timbre_1_std\":timbre_data[0][1],\\\n",
    "                         \"timbre_1_iqr\":timbre_data[0][2],\"timbre_1_kurtosis\":timbre_data[0][3],\"timbre_2_mean\":timbre_data[1][0],\"timbre_2_std\":timbre_data[1][1],\\\n",
    "                         \"timbre_2_iqr\":timbre_data[1][2],\"timbre_2_kurtosis\":timbre_data[1][3],\"timbre_3_mean\":timbre_data[2][0],\\\n",
    "                         \"timbre_3_std\":timbre_data[2][1],\"timbre_3_iqr\":timbre_data[2][2],\"timbre_3_kurtosis\":timbre_data[2][3],\\\n",
    "                         \"timbre_4_mean\":timbre_data[3][0],\"timbre_4_std\":timbre_data[3][1],\"timbre_4_iqr\":timbre_data[3][2],\"timbre_4_kurtosis\":timbre_data[3][3],\\\n",
    "                         \"timbre_5_mean\":timbre_data[4][0],\"timbre_5_std\":timbre_data[4][1],\"timbre_5_iqr\":timbre_data[4][2],\"timbre_5_kurtosis\":timbre_data[4][3],\\\n",
    "                         \"timbre_6_mean\":timbre_data[5][0],\"timbre_6_std\":timbre_data[5][1],\"timbre_6_iqr\":timbre_data[5][2],\"timbre_6_kurtosis\":timbre_data[5][3],\\\n",
    "                         \"timbre_7_mean\":timbre_data[6][0],\"timbre_7_std\":timbre_data[6][1],\"timbre_7_iqr\":timbre_data[6][2],\"timbre_7_kurtosis\":timbre_data[6][3],\\\n",
    "                         \"timbre_8_mean\":timbre_data[7][0],\"timbre_8_std\":timbre_data[7][1],\"timbre_8_iqr\":timbre_data[7][2],\"timbre_8_kurtosis\":timbre_data[7][3],\\\n",
    "                         \"timbre_9_mean\":timbre_data[8][0],\"timbre_9_std\":timbre_data[8][1],\"timbre_9_iqr\":timbre_data[8][2],\"timbre_9_kurtosis\":timbre_data[8][3],\\\n",
    "                         \"timbre_10_mean\":timbre_data[9][0],\"timbre_10_std\":timbre_data[9][1],\"timbre_10_iqr\":timbre_data[9][2],\"timbre_10_kurtosis\":timbre_data[9][3],\\\n",
    "                         \"timbre_11_mean\":timbre_data[10][0],\"timbre_11_std\":timbre_data[10][1],\"timbre_11_iqr\":timbre_data[10][2],\"timbre_11_kurtosis\":timbre_data[10][3],\\\n",
    "                         \"timbre_12_mean\":timbre_data[11][0],\"timbre_12_std\":timbre_data[11][1],\"timbre_12_iqr\":timbre_data[11][2],\"timbre_12_kurtosis\":timbre_data[11][3],\\\n",
    "                         \"timbre_entropy\":timbre_entropy})\n",
    "            "
   ]
  },
  {
   "cell_type": "code",
   "execution_count": 50,
   "metadata": {},
   "outputs": [],
   "source": [
    "import csv\n",
    "\n",
    "with open('spotifydatafile.csv', 'w') as csvfile:\n",
    "    w = csv.DictWriter(csvfile, data[0].keys())\n",
    "    w.writeheader()\n",
    "    w.writerow(data[0])\n"
   ]
  },
  {
   "cell_type": "code",
   "execution_count": 51,
   "metadata": {},
   "outputs": [
    {
     "data": {
      "text/html": [
       "<div>\n",
       "<style scoped>\n",
       "    .dataframe tbody tr th:only-of-type {\n",
       "        vertical-align: middle;\n",
       "    }\n",
       "\n",
       "    .dataframe tbody tr th {\n",
       "        vertical-align: top;\n",
       "    }\n",
       "\n",
       "    .dataframe thead th {\n",
       "        text-align: right;\n",
       "    }\n",
       "</style>\n",
       "<table border=\"1\" class=\"dataframe\">\n",
       "  <thead>\n",
       "    <tr style=\"text-align: right;\">\n",
       "      <th></th>\n",
       "      <th>track_name</th>\n",
       "      <th>artist_name</th>\n",
       "      <th>track_id</th>\n",
       "      <th>artist_id</th>\n",
       "      <th>track_popularity</th>\n",
       "      <th>artist_popularity</th>\n",
       "      <th>artist_followers</th>\n",
       "      <th>confidence_mean</th>\n",
       "      <th>confidence_std</th>\n",
       "      <th>confidence_kurtosis</th>\n",
       "      <th>...</th>\n",
       "      <th>timbre_10_kurtosis</th>\n",
       "      <th>timbre_11</th>\n",
       "      <th>timbre_11_std</th>\n",
       "      <th>timbre_11_iqr</th>\n",
       "      <th>timbre_11_kurtosis</th>\n",
       "      <th>timbre_12</th>\n",
       "      <th>timbre_12_std</th>\n",
       "      <th>timbre_12_iqr</th>\n",
       "      <th>timbre_12_kurtosis</th>\n",
       "      <th>timbre_entropy</th>\n",
       "    </tr>\n",
       "  </thead>\n",
       "  <tbody>\n",
       "    <tr>\n",
       "      <th>0</th>\n",
       "      <td>Frogbass - Original Mix</td>\n",
       "      <td>Snails</td>\n",
       "      <td>0HzkGXPcRlW1hRkaVHqxdm</td>\n",
       "      <td>2yT7X3Gg2S51DHz67FAYL6</td>\n",
       "      <td>44</td>\n",
       "      <td>56</td>\n",
       "      <td>85851</td>\n",
       "      <td>0.403243</td>\n",
       "      <td>0.271824</td>\n",
       "      <td>-1.079708</td>\n",
       "      <td>...</td>\n",
       "      <td>2.944793</td>\n",
       "      <td>9.741088</td>\n",
       "      <td>44.190388</td>\n",
       "      <td>56.64175</td>\n",
       "      <td>2.944793</td>\n",
       "      <td>9.741088</td>\n",
       "      <td>44.190388</td>\n",
       "      <td>56.64175</td>\n",
       "      <td>2.944793</td>\n",
       "      <td>2.484907</td>\n",
       "    </tr>\n",
       "  </tbody>\n",
       "</table>\n",
       "<p>1 rows × 135 columns</p>\n",
       "</div>"
      ],
      "text/plain": [
       "                track_name artist_name                track_id  \\\n",
       "0  Frogbass - Original Mix      Snails  0HzkGXPcRlW1hRkaVHqxdm   \n",
       "\n",
       "                artist_id  track_popularity  artist_popularity  \\\n",
       "0  2yT7X3Gg2S51DHz67FAYL6                44                 56   \n",
       "\n",
       "   artist_followers  confidence_mean  confidence_std  confidence_kurtosis  \\\n",
       "0             85851         0.403243        0.271824            -1.079708   \n",
       "\n",
       "        ...        timbre_10_kurtosis  timbre_11  timbre_11_std  \\\n",
       "0       ...                  2.944793   9.741088      44.190388   \n",
       "\n",
       "   timbre_11_iqr  timbre_11_kurtosis  timbre_12  timbre_12_std  timbre_12_iqr  \\\n",
       "0       56.64175            2.944793   9.741088      44.190388       56.64175   \n",
       "\n",
       "   timbre_12_kurtosis  timbre_entropy  \n",
       "0            2.944793        2.484907  \n",
       "\n",
       "[1 rows x 135 columns]"
      ]
     },
     "metadata": {},
     "output_type": "display_data"
    }
   ],
   "source": [
    "import pandas as pd\n",
    "data = pd.read_csv(\"spotifydatafile.csv\")\n",
    "display(data)"
   ]
  },
  {
   "cell_type": "code",
   "execution_count": null,
   "metadata": {},
   "outputs": [],
   "source": []
  }
 ],
 "metadata": {
  "kernelspec": {
   "display_name": "Python 3",
   "language": "python",
   "name": "python3"
  },
  "language_info": {
   "codemirror_mode": {
    "name": "ipython",
    "version": 3
   },
   "file_extension": ".py",
   "mimetype": "text/x-python",
   "name": "python",
   "nbconvert_exporter": "python",
   "pygments_lexer": "ipython3",
   "version": "3.7.0"
  }
 },
 "nbformat": 4,
 "nbformat_minor": 2
}
